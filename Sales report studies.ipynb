{
 "cells": [
  {
   "cell_type": "markdown",
   "metadata": {},
   "source": [
    "# Automação de Sistemas e Processos com Python\n",
    "\n",
    "### Desafio:\n",
    "\n",
    "Todos os dias, o nosso sistema atualiza as vendas do dia anterior.\n",
    "O seu trabalho diário, como analista, é enviar um e-mail para a diretoria, assim que começar a trabalhar, com o faturamento e a quantidade de produtos vendidos no dia anterior\n",
    "\n",
    "E-mail da diretoria: seugmail+diretoria@gmail.com<br>\n",
    "Local onde o sistema disponibiliza as vendas do dia anterior: https://drive.google.com/drive/folders/149xknr9JvrlEnhNWO49zPcw0PW5icxga?usp=sharing\n",
    "\n",
    "Para resolver isso, vamos usar o pyautogui, uma biblioteca de automação de comandos do mouse e do teclado"
   ]
  },
  {
   "cell_type": "markdown",
   "metadata": {},
   "source": [
    "Fluxo:\n",
    "- Entrar no sistema (link)\n",
    "- Navegar no sistema até a pasta exportar\n",
    "- Realizar o download da base de vendas\n",
    "- Importar a base de vendas no Python\n",
    "- Calcular o faturamento e quantidade de produtos vendidos (indicadores)  \n",
    "- Enviar e-mail para diretoria"
   ]
  },
  {
   "cell_type": "code",
   "execution_count": 1,
   "metadata": {},
   "outputs": [],
   "source": [
    "import pyautogui\n",
    "import pyperclip\n",
    "import time\n",
    "import pandas as pd"
   ]
  },
  {
   "cell_type": "code",
   "execution_count": 2,
   "metadata": {},
   "outputs": [],
   "source": [
    "def open_browser():\n",
    "    pyautogui.press('win')\n",
    "    pyautogui.write('chrome')\n",
    "    pyautogui.press('enter')"
   ]
  },
  {
   "cell_type": "code",
   "execution_count": 3,
   "metadata": {},
   "outputs": [],
   "source": [
    "def open_tab_and_navigate_to(url):\n",
    "    pyperclip.copy(url)\n",
    "    pyautogui.hotkey('ctrl', 't')\n",
    "    pyautogui.hotkey('ctrl', 'v')\n",
    "    pyautogui.press('enter')"
   ]
  },
  {
   "cell_type": "code",
   "execution_count": 4,
   "metadata": {},
   "outputs": [],
   "source": [
    "def download_report_file():\n",
    "    # Para evitar erros, usar um delay\n",
    "    pyautogui.PAUSE = 0.5\n",
    "\n",
    "    open_tab_and_navigate_to('https://drive.google.com/drive/folders/149xknr9JvrlEnhNWO49zPcw0PW5icxga?usp=sharing')\n",
    "    \n",
    "    time.sleep(5)\n",
    "\n",
    "    # Click twice on folder\n",
    "    pyautogui.doubleClick(x=433, y=337)\n",
    "    # Or pyautogui.click(x=0, y=0, clicks=2)\n",
    "\n",
    "    time.sleep(3)\n",
    "\n",
    "    # Click on file\n",
    "    pyautogui.click(x=475, y=413)\n",
    "\n",
    "    # Click on options\n",
    "    pyautogui.click(x=2302, y=205)\n",
    "\n",
    "    # Click on download\n",
    "    pyautogui.click(x=1974, y=751)\n",
    "    \n",
    "    # Await for download\n",
    "    time.sleep(5)"
   ]
  },
  {
   "cell_type": "markdown",
   "metadata": {},
   "source": [
    "### Vamos agora ler o arquivo baixado para pegar os indicadores\n",
    "\n",
    "- Faturamento\n",
    "- Quantidade de Produtos"
   ]
  },
  {
   "cell_type": "code",
   "execution_count": 5,
   "metadata": {},
   "outputs": [],
   "source": [
    "def get_revenues_and_quantity():\n",
    "    sales_spreadsheet = pd.read_excel('/Users/itanu.martinez/Downloads/Vendas - Dez.xlsx') # OR can be used raw strings\n",
    "    quantity = sales_spreadsheet['Quantidade'].sum()\n",
    "    revenues = sales_spreadsheet['Valor Final'].sum()\n",
    "    return [revenues, quantity]"
   ]
  },
  {
   "cell_type": "markdown",
   "metadata": {},
   "source": [
    "### Vamos agora enviar um e-mail pelo gmail"
   ]
  },
  {
   "cell_type": "code",
   "execution_count": 6,
   "metadata": {},
   "outputs": [],
   "source": [
    "def send_report_with_gmail(revenues, quantity):\n",
    "    email_url = 'https://mail.google.com/mail/u/3/#inbox'\n",
    "\n",
    "    open_tab_and_navigate_to(email_url)\n",
    "\n",
    "    time.sleep(5)\n",
    "\n",
    "    open_and_prepare_email()\n",
    "    \n",
    "    write_email_body(revenues, quantity)\n",
    "\n",
    "    # Send email\n",
    "    pyautogui.hotkey('ctrl', 'enter')"
   ]
  },
  {
   "cell_type": "code",
   "execution_count": 7,
   "metadata": {},
   "outputs": [],
   "source": [
    "def write_email_body(revenues, quantity):\n",
    "    # Write email body\n",
    "    email_body = f\"\"\"\n",
    "    Bom dia.\n",
    "\n",
    "    O faturamento foi: R$ {revenues:,.2f}\n",
    "    A quantidade de produtos foi: {quantity:,}\n",
    "\n",
    "    Att,\n",
    "    Itanu Romero\n",
    "    \"\"\"\n",
    "    pyperclip.copy(email_body)\n",
    "    pyautogui.hotkey('ctrl', 'v')"
   ]
  },
  {
   "cell_type": "code",
   "execution_count": 8,
   "metadata": {},
   "outputs": [],
   "source": [
    "def open_and_prepare_email():\n",
    "    # Click on write e-mail\n",
    "    pyautogui.click(x=48, y=246)\n",
    "    # Write email address\n",
    "    pyautogui.write('romero.itanu@gmail.com')\n",
    "\n",
    "    # Select email address and change to subject\n",
    "    pyautogui.press('tab')\n",
    "    pyautogui.press('tab')\n",
    "\n",
    "    # Write subject and go to email body\n",
    "    pyautogui.write('Sales report')\n",
    "    pyautogui.press('tab')"
   ]
  },
  {
   "cell_type": "markdown",
   "metadata": {},
   "source": [
    "# Agora, rodando tudo"
   ]
  },
  {
   "cell_type": "code",
   "execution_count": 9,
   "metadata": {},
   "outputs": [],
   "source": [
    "# Flow:\n",
    "download_report_file()\n",
    "revenues, quantity = get_revenues_and_quantity()\n",
    "send_report_with_gmail(revenues, quantity)"
   ]
  },
  {
   "cell_type": "markdown",
   "metadata": {},
   "source": [
    "### Instalando as bibliotecas"
   ]
  },
  {
   "cell_type": "markdown",
   "metadata": {
    "scrolled": true
   },
   "source": [
    "! py -m pip install pyautogui && py -m pip install pyperclip"
   ]
  },
  {
   "cell_type": "code",
   "execution_count": 10,
   "metadata": {
    "scrolled": true
   },
   "outputs": [],
   "source": [
    "def find_mouse_position():\n",
    "    time.sleep(5)\n",
    "    print(pyautogui.position())"
   ]
  }
 ],
 "metadata": {
  "kernelspec": {
   "display_name": "Python 3 (ipykernel)",
   "language": "python",
   "name": "python3"
  },
  "language_info": {
   "codemirror_mode": {
    "name": "ipython",
    "version": 3
   },
   "file_extension": ".py",
   "mimetype": "text/x-python",
   "name": "python",
   "nbconvert_exporter": "python",
   "pygments_lexer": "ipython3",
   "version": "3.8.6"
  }
 },
 "nbformat": 4,
 "nbformat_minor": 4
}
